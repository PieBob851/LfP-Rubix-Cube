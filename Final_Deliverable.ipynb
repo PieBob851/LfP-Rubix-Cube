{
  "cells": [
    {
      "cell_type": "code",
      "execution_count": 1,
      "metadata": {
        "colab": {
          "base_uri": "https://localhost:8080/"
        },
        "id": "Wcdoe1095pLo",
        "outputId": "54ffbe19-a356-47e0-b57f-aa1729044864"
      },
      "outputs": [
        {
          "output_type": "stream",
          "name": "stdout",
          "text": [
            "/\n",
            "Cloning into 'LfP-Rubix-Cube'...\n",
            "remote: Enumerating objects: 47, done.\u001b[K\n",
            "remote: Counting objects: 100% (47/47), done.\u001b[K\n",
            "remote: Compressing objects: 100% (37/37), done.\u001b[K\n",
            "remote: Total 47 (delta 18), reused 31 (delta 10), pack-reused 0 (from 0)\u001b[K\n",
            "Receiving objects: 100% (47/47), 31.94 KiB | 545.00 KiB/s, done.\n",
            "Resolving deltas: 100% (18/18), done.\n",
            "/LfP-Rubix-Cube\n"
          ]
        }
      ],
      "source": [
        "%cd ..\n",
        "!git clone https://github.com/PieBob851/LfP-Rubix-Cube.git\n",
        "%cd LfP-Rubix-Cube"
      ]
    },
    {
      "cell_type": "markdown",
      "metadata": {
        "id": "5kZB5Lcq9uDc"
      },
      "source": [
        "# Imports & Utils\n"
      ]
    },
    {
      "cell_type": "code",
      "execution_count": 2,
      "metadata": {
        "colab": {
          "base_uri": "https://localhost:8080/"
        },
        "id": "7H3Eu_3Jqu7n",
        "outputId": "28ac1c3f-3730-48de-bcf0-adceb1a9bde9"
      },
      "outputs": [
        {
          "output_type": "stream",
          "name": "stdout",
          "text": [
            "Using device: cuda\n"
          ]
        }
      ],
      "source": [
        "from model.encoder import Encoder\n",
        "from model.planner import Planner\n",
        "from model.actor import Actor\n",
        "import torch\n",
        "from torch import nn, zeros\n",
        "import torch.nn.functional as F\n",
        "from torch.optim import Adam\n",
        "from torch.utils.tensorboard import SummaryWriter\n",
        "from collections import deque\n",
        "import random\n",
        "import copy\n",
        "import numpy as np\n",
        "import glob\n",
        "import matplotlib.pyplot as plt\n",
        "\n",
        "device = \"cuda\" if torch.cuda.is_available() else \"cpu\"\n",
        "print(f\"Using device: {device}\")"
      ]
    },
    {
      "cell_type": "code",
      "execution_count": 3,
      "metadata": {
        "colab": {
          "base_uri": "https://localhost:8080/"
        },
        "id": "WfQFoZbGwbFH",
        "outputId": "7d244d69-20cc-4bc1-adfe-85417e6b486c"
      },
      "outputs": [
        {
          "output_type": "stream",
          "name": "stdout",
          "text": [
            "Collecting magiccube\n",
            "  Downloading magiccube-1.0.0-py3-none-any.whl.metadata (3.9 kB)\n",
            "Requirement already satisfied: numpy in /usr/local/lib/python3.11/dist-packages (from magiccube) (2.0.2)\n",
            "Downloading magiccube-1.0.0-py3-none-any.whl (16 kB)\n",
            "Installing collected packages: magiccube\n",
            "Successfully installed magiccube-1.0.0\n",
            "Collecting kociemba\n",
            "  Downloading kociemba-1.2.1.tar.gz (6.6 MB)\n",
            "\u001b[2K     \u001b[90m━━━━━━━━━━━━━━━━━━━━━━━━━━━━━━━━━━━━━━━━\u001b[0m \u001b[32m6.6/6.6 MB\u001b[0m \u001b[31m74.7 MB/s\u001b[0m eta \u001b[36m0:00:00\u001b[0m\n",
            "\u001b[?25h  Preparing metadata (setup.py) ... \u001b[?25l\u001b[?25hdone\n",
            "Requirement already satisfied: cffi>=1.0.0 in /usr/local/lib/python3.11/dist-packages (from kociemba) (1.17.1)\n",
            "Requirement already satisfied: future in /usr/local/lib/python3.11/dist-packages (from kociemba) (1.0.0)\n",
            "Requirement already satisfied: pycparser in /usr/local/lib/python3.11/dist-packages (from cffi>=1.0.0->kociemba) (2.22)\n",
            "Building wheels for collected packages: kociemba\n",
            "  Building wheel for kociemba (setup.py) ... \u001b[?25l\u001b[?25hdone\n",
            "  Created wheel for kociemba: filename=kociemba-1.2.1-cp311-cp311-linux_x86_64.whl size=6800268 sha256=5f2fe159af5141f282d529ccf9f6e3224ba4db6aa2c7e6188122d91f7acc1a60\n",
            "  Stored in directory: /root/.cache/pip/wheels/6c/51/2f/f3b8548d55efe500bd3b8880b0c59e7c59d0bf765c5676c036\n",
            "Successfully built kociemba\n",
            "Installing collected packages: kociemba\n",
            "Successfully installed kociemba-1.2.1\n"
          ]
        }
      ],
      "source": [
        "!pip install magiccube\n",
        "!pip install kociemba"
      ]
    },
    {
      "cell_type": "code",
      "execution_count": 4,
      "metadata": {
        "id": "BzsAMibJsBvI"
      },
      "outputs": [],
      "source": [
        "import magiccube\n",
        "import copy\n",
        "from magiccube.cube_base import Color, Face\n",
        "from magiccube.cube_move import CubeMove\n",
        "from magiccube.cube_print import CubePrintStr\n",
        "from magiccube.solver.basic.basic_solver import BasicSolver\n",
        "import kociemba\n",
        "\n",
        "cube = magiccube.Cube(3,\"YYYYYYYYYRRRRRRRRRGGGGGGGGGOOOOOOOOOBBBBBBBBBWWWWWWWWW\")\n",
        "\n",
        "def get_face_state(cube, face):\n",
        "    array_values = np.array([[color.value for color in row] for row in cube.get_face(face)])\n",
        "    tensor = torch.tensor(array_values.flatten(), dtype=torch.int64)\n",
        "    return torch.nn.functional.one_hot(tensor, num_classes=6).flatten()\n",
        "\n",
        "#state space\n",
        "def get_cube_state(cube):\n",
        "    return torch.stack([get_face_state(cube, Face.L), get_face_state(cube, Face.R), get_face_state(cube, Face.D), get_face_state(cube, Face.U), get_face_state(cube, Face.B), get_face_state(cube, Face.F)], dim=0)\n",
        "\n",
        "def batch_cube_state(cube_list):\n",
        "    current_states = []\n",
        "\n",
        "    for cube in cube_list:\n",
        "      current_states.append(get_cube_state(cube))\n",
        "\n",
        "    current_states = torch.stack(current_states)\n",
        "\n",
        "    return current_states.view(current_states.size(0), -1)\n",
        "\n",
        "def batch_apply_action(cube_list, action_list):\n",
        "  for i in range(len(cube_list)):\n",
        "    cube_list[i]._rotate_once(action_list[i])\n",
        "\n",
        "  return cube_list\n",
        "\n",
        "def get_kociemba_solve(cube):\n",
        "  in_format = \"YRGOBW\"\n",
        "  out_format = \"ULFRBD\"\n",
        "  ordered_format = \"URFDLB\"\n",
        "\n",
        "  translation_table_1 = str.maketrans(in_format, out_format)\n",
        "  translation_table_2 = str.maketrans(out_format, ordered_format)\n",
        "  printer = CubePrintStr(cube)\n",
        "  string = printer.print_cube().replace(\" \",\"\").replace(\"\\n\", \"\").translate(translation_table_1)\n",
        "  formatted = string[0:9] + string[15:18] + string[27:30] + string[39:42] \\\n",
        "              + string[12:15] + string[24:27] + string[36:39] + string[-9:] \\\n",
        "              + string[9:12] + string[21:24] + string[33:36] \\\n",
        "              + string[18:21] + string[30:33] + string[42:45]\n",
        "\n",
        "  return kociemba.solve(formatted)\n",
        "\n",
        "\n",
        "\n",
        "#action space\n",
        "movements = [\"L\", \"L'\", \"L2\", \"R\", \"R'\", \"R2\", \"D\", \"D'\", \"D2\", \"U\", \"U'\", \"U2\", \"B\", \"B'\", \"B2\", \"F\", \"F'\", \"F2\"]\n",
        "reversals = [\"L'\", \"L\", \"L2\", \"R'\", \"R\", \"R2\", \"D'\", \"D\", \"D2\", \"U'\", \"U\", \"U2\", \"B'\", \"B\", \"B2\", \"F'\", \"F\", \"F2\"]\n",
        "reverse_index = {0: 1, 1: 0, 2: 2, 3: 4, 4: 3, 5: 5, 6: 7, 7: 6, 8: 8, 9: 10, 10: 9, 11: 11, 12: 13, 13: 12, 14: 14, 15: 16, 16:15, 17:17}\n",
        "move_dict =  {\"L\": 0, \"L'\": 1, \"L2\": 2, \"R\": 3, \"R'\": 4, \"R2\": 5, \"D\": 6, \"D'\": 7, \"D2\": 8, \"U\": 9, \"U'\": 10, \"U2\": 11, \"B\": 12, \"B'\": 13, \"B2\": 14, \"F\": 15, \"F'\": 16, \"F2\": 17}\n",
        "reversals = [CubeMove.create(move_str) for move_str in reversals]\n",
        "movements = [CubeMove.create(move_str) for move_str in movements]\n",
        "\n",
        "# cube._rotate_once(movements[8])\n",
        "# solver = BasicSolver(cube)\n",
        "# cube_copy = copy.deepcopy(cube)\n",
        "# solver.solve()"
      ]
    },
    {
      "cell_type": "markdown",
      "metadata": {
        "id": "l0gooVAu97L4"
      },
      "source": [
        "# Data Collection\n",
        "\n",
        "Different ways to collect data (only one should be used)"
      ]
    },
    {
      "cell_type": "markdown",
      "metadata": {
        "id": "a317An1e-8Tw"
      },
      "source": [
        "Random move selection - at every timestep, a random move is chosen"
      ]
    },
    {
      "cell_type": "code",
      "execution_count": 9,
      "metadata": {
        "id": "raWpW0b_vkBW",
        "colab": {
          "base_uri": "https://localhost:8080/"
        },
        "outputId": "7002d0c8-98e1-4e2a-e6e9-6e56c8d38e6b"
      },
      "outputs": [
        {
          "output_type": "stream",
          "name": "stdout",
          "text": [
            "Sample: 0\n",
            "Sample: 10000\n",
            "Sample: 20000\n",
            "Sample: 30000\n",
            "Sample: 40000\n",
            "Sample: 50000\n",
            "Sample: 60000\n",
            "Sample: 70000\n",
            "Sample: 80000\n",
            "Sample: 90000\n",
            "Sample: 100000\n",
            "Sample: 110000\n",
            "Sample: 120000\n",
            "Sample: 130000\n",
            "Sample: 140000\n",
            "Sample: 150000\n",
            "Sample: 160000\n",
            "Sample: 170000\n",
            "Sample: 180000\n",
            "Sample: 190000\n",
            "Sample: 200000\n",
            "Sample: 210000\n",
            "Sample: 220000\n",
            "Sample: 230000\n",
            "Sample: 240000\n",
            "Sample: 250000\n",
            "Sample: 260000\n",
            "Sample: 270000\n",
            "Sample: 280000\n",
            "Sample: 290000\n",
            "Sample: 300000\n",
            "Sample: 310000\n",
            "Sample: 320000\n",
            "Sample: 330000\n",
            "Sample: 340000\n",
            "Sample: 350000\n",
            "Sample: 360000\n",
            "Sample: 370000\n",
            "Sample: 380000\n",
            "Sample: 390000\n",
            "Sample: 400000\n",
            "Sample: 410000\n",
            "Sample: 420000\n",
            "Sample: 430000\n",
            "Sample: 440000\n",
            "Sample: 450000\n",
            "Sample: 460000\n",
            "Sample: 470000\n",
            "Sample: 480000\n",
            "Sample: 490000\n",
            "Sample: 500000\n",
            "Sample: 510000\n",
            "Sample: 520000\n",
            "Sample: 530000\n",
            "Sample: 540000\n",
            "Sample: 550000\n",
            "Sample: 560000\n",
            "Sample: 570000\n",
            "Sample: 580000\n",
            "Sample: 590000\n",
            "Sample: 600000\n",
            "Sample: 610000\n",
            "Sample: 620000\n",
            "Sample: 630000\n",
            "Sample: 640000\n",
            "Sample: 650000\n",
            "Sample: 660000\n",
            "Sample: 670000\n",
            "Sample: 680000\n",
            "Sample: 690000\n",
            "Sample: 700000\n",
            "Sample: 710000\n",
            "Sample: 720000\n",
            "Sample: 730000\n",
            "Sample: 740000\n",
            "Sample: 750000\n",
            "Sample: 760000\n",
            "Sample: 770000\n",
            "Sample: 780000\n",
            "Sample: 790000\n",
            "Sample: 800000\n",
            "Sample: 810000\n",
            "Sample: 820000\n",
            "Sample: 830000\n",
            "Sample: 840000\n",
            "Sample: 850000\n",
            "Sample: 860000\n",
            "Sample: 870000\n",
            "Sample: 880000\n",
            "Sample: 890000\n",
            "Sample: 900000\n",
            "Sample: 910000\n",
            "Sample: 920000\n",
            "Sample: 930000\n",
            "Sample: 940000\n",
            "Sample: 950000\n",
            "Sample: 960000\n",
            "Sample: 970000\n",
            "Sample: 980000\n",
            "Sample: 990000\n"
          ]
        }
      ],
      "source": [
        "# random move at every step for dataset creation\n",
        "import torch\n",
        "import numpy as np\n",
        "import random\n",
        "\n",
        "action_dim = 18\n",
        "state_dim = 54 * 6\n",
        "num_samples = 1000000\n",
        "\n",
        "data_raw = torch.zeros((num_samples, action_dim + state_dim))\n",
        "cube = magiccube.Cube(3,\"YYYYYYYYYRRRRRRRRRGGGGGGGGGOOOOOOOOOBBBBBBBBBWWWWWWWWW\")\n",
        "for i in range(num_samples):\n",
        "  if i % 10000 == 0:\n",
        "    print(f\"Sample: {i}\")\n",
        "  state = get_cube_state(cube).flatten()\n",
        "  data_raw[i, :state_dim] = state\n",
        "\n",
        "  action = random.choice(range(action_dim))\n",
        "  data_raw[i, state_dim + action] = 1\n",
        "\n",
        "  cube._rotate_once(movements[action])"
      ]
    },
    {
      "cell_type": "markdown",
      "metadata": {
        "id": "U2ZakNFh_DTZ"
      },
      "source": [
        "Random move selection with reversing - starts with a solved cube, then advances move_depth steps forward with random move selection. After this, it reverses those moves (so the cube is once again solved)."
      ]
    },
    {
      "cell_type": "code",
      "execution_count": null,
      "metadata": {
        "id": "Xj43AWNf5Qx7"
      },
      "outputs": [],
      "source": [
        "# forward set number of moves, before reversing\n",
        "action_dim = 18\n",
        "state_dim = 54 * 6\n",
        "num_samples = 100000\n",
        "move_depth = 16  # Number of forward moves before reversing\n",
        "\n",
        "data_raw = torch.zeros((num_samples, action_dim + state_dim))\n",
        "cube = magiccube.Cube(3, \"YYYYYYYYYRRRRRRRRRGGGGGGGGGOOOOOOOOOBBBBBBBBBWWWWWWWWW\")\n",
        "\n",
        "i = 0\n",
        "while i < num_samples:\n",
        "  forward_actions = []\n",
        "  for _ in range(move_depth):\n",
        "    if i % 10000 == 0:\n",
        "        print(f\"Sample: {i}\")\n",
        "    state = get_cube_state(cube).flatten()\n",
        "    data_raw[i, :state_dim] = state\n",
        "\n",
        "    action = random.choice(range(action_dim))\n",
        "    data_raw[i, state_dim + action] = 1\n",
        "    cube._rotate_once(movements[action])\n",
        "    forward_actions.append(action)\n",
        "\n",
        "    i += 1\n",
        "    if i >= num_samples:\n",
        "      break\n",
        "\n",
        "  for action in reversed(forward_actions):\n",
        "    if i % 10000 == 0:\n",
        "        print(f\"Sample: {i}\")\n",
        "    state = get_cube_state(cube).flatten()\n",
        "    data_raw[i, :state_dim] = state\n",
        "\n",
        "    reverse_action = reverse_index[action]\n",
        "    data_raw[i, state_dim + reverse_action] = 1\n",
        "    cube._rotate_once(movements[reverse_action])\n",
        "\n",
        "    i += 1\n",
        "    if i >= num_samples:\n",
        "      break"
      ]
    },
    {
      "cell_type": "markdown",
      "source": [
        "Using MacgicCube's scramble() and solve() functions - generates a random state, then solves the cube forward from that state."
      ],
      "metadata": {
        "id": "vtR_fXT5vdnM"
      }
    },
    {
      "cell_type": "code",
      "source": [
        "import kociemba\n",
        "action_dim = 18\n",
        "state_dim = 54 * 6\n",
        "num_samples = 1000000\n",
        "move_depth = 16\n",
        "\n",
        "data_raw = torch.zeros((num_samples, action_dim + state_dim))\n",
        "solved_cube = magiccube.Cube(3, \"YYYYYYYYYRRRRRRRRRGGGGGGGGGOOOOOOOOOBBBBBBBBBWWWWWWWWW\")\n",
        "\n",
        "i = 0\n",
        "while i < num_samples:\n",
        "  cube = copy.deepcopy(solved_cube)\n",
        "  action_cube = copy.deepcopy(cube)\n",
        "  scramble_history = action_cube.scramble(move_depth)\n",
        "  solve_history = get_kociemba_solve(action_cube).split()\n",
        "  if len(solve_history) > 16:\n",
        "    pass\n",
        "  else:\n",
        "    total_dim = len(scramble_history) + len(solve_history)\n",
        "    padding_needed = 32 - total_dim\n",
        "    for j in range(move_depth):\n",
        "      if i % 10000 == 0:\n",
        "          print(f\"Sample: {i}\")\n",
        "      state = get_cube_state(cube).flatten()\n",
        "      data_raw[i, :state_dim] = state\n",
        "\n",
        "      action = move_dict[str(scramble_history[j])]\n",
        "      data_raw[i, state_dim + action] = 1\n",
        "      cube._rotate_once(movements[action])\n",
        "      i += 1\n",
        "\n",
        "      if i >= num_samples:\n",
        "        break\n",
        "    for action in solve_history:\n",
        "      if i % 10000 == 0:\n",
        "          print(f\"Sample: {i}\")\n",
        "      state = get_cube_state(cube).flatten()\n",
        "      data_raw[i, :state_dim] = state\n",
        "\n",
        "      raw_action = move_dict[str(action)]\n",
        "      data_raw[i, state_dim + raw_action] = 1\n",
        "      move = CubeMove.create(action)\n",
        "      cube._rotate_once(move)\n",
        "\n",
        "      i += 1\n",
        "      if i >= num_samples:\n",
        "        break\n",
        "\n",
        "    i += padding_needed"
      ],
      "metadata": {
        "colab": {
          "base_uri": "https://localhost:8080/"
        },
        "id": "MJG5b0Pvvboh",
        "outputId": "d9bab485-4b7b-4260-86bb-2d1f903d3f2f"
      },
      "execution_count": 9,
      "outputs": [
        {
          "output_type": "stream",
          "name": "stdout",
          "text": [
            "Sample: 0\n",
            "Sample: 10000\n",
            "Sample: 20000\n",
            "Sample: 30000\n",
            "Sample: 40000\n",
            "Sample: 50000\n",
            "Sample: 60000\n",
            "Sample: 70000\n",
            "Sample: 80000\n",
            "Sample: 90000\n",
            "Sample: 100000\n",
            "Sample: 110000\n",
            "Sample: 120000\n",
            "Sample: 130000\n",
            "Sample: 140000\n",
            "Sample: 150000\n",
            "Sample: 160000\n",
            "Sample: 170000\n",
            "Sample: 180000\n",
            "Sample: 190000\n",
            "Sample: 200000\n",
            "Sample: 210000\n",
            "Sample: 220000\n",
            "Sample: 230000\n",
            "Sample: 240000\n",
            "Sample: 250000\n",
            "Sample: 260000\n",
            "Sample: 270000\n",
            "Sample: 280000\n",
            "Sample: 290000\n",
            "Sample: 300000\n",
            "Sample: 310000\n",
            "Sample: 320000\n",
            "Sample: 330000\n",
            "Sample: 340000\n",
            "Sample: 350000\n",
            "Sample: 360000\n",
            "Sample: 370000\n",
            "Sample: 380000\n",
            "Sample: 390000\n",
            "Sample: 400000\n",
            "Sample: 410000\n",
            "Sample: 420000\n",
            "Sample: 430000\n",
            "Sample: 440000\n",
            "Sample: 450000\n",
            "Sample: 460000\n",
            "Sample: 470000\n",
            "Sample: 480000\n",
            "Sample: 490000\n",
            "Sample: 500000\n",
            "Sample: 510000\n",
            "Sample: 520000\n",
            "Sample: 530000\n",
            "Sample: 540000\n",
            "Sample: 550000\n",
            "Sample: 560000\n",
            "Sample: 570000\n",
            "Sample: 580000\n",
            "Sample: 590000\n",
            "Sample: 600000\n",
            "Sample: 610000\n",
            "Sample: 620000\n",
            "Sample: 630000\n",
            "Sample: 640000\n",
            "Sample: 650000\n",
            "Sample: 660000\n",
            "Sample: 670000\n",
            "Sample: 680000\n",
            "Sample: 690000\n",
            "Sample: 700000\n",
            "Sample: 710000\n",
            "Sample: 720000\n",
            "Sample: 730000\n",
            "Sample: 740000\n",
            "Sample: 750000\n",
            "Sample: 760000\n",
            "Sample: 770000\n",
            "Sample: 780000\n",
            "Sample: 790000\n",
            "Sample: 800000\n",
            "Sample: 810000\n",
            "Sample: 820000\n",
            "Sample: 830000\n",
            "Sample: 840000\n",
            "Sample: 850000\n",
            "Sample: 860000\n",
            "Sample: 870000\n",
            "Sample: 880000\n",
            "Sample: 890000\n",
            "Sample: 900000\n",
            "Sample: 910000\n",
            "Sample: 920000\n",
            "Sample: 930000\n",
            "Sample: 940000\n",
            "Sample: 950000\n",
            "Sample: 960000\n",
            "Sample: 970000\n",
            "Sample: 980000\n",
            "Sample: 990000\n"
          ]
        }
      ]
    },
    {
      "cell_type": "code",
      "execution_count": 10,
      "metadata": {
        "id": "pdcQeEuiJld9"
      },
      "outputs": [],
      "source": [
        "#Getting Data\n",
        "\n",
        "class Dataset:\n",
        "    def __init__(self, data):\n",
        "        self.data_list = data\n",
        "\n",
        "    def sample_batch(self, batch_size):\n",
        "        start_indices = np.random.randint(0, len(self.data_list) - 32, size=batch_size)[:, np.newaxis]\n",
        "        indices = start_indices + np.arange(32)[np.newaxis, :]\n",
        "\n",
        "        sample = self.data_list[indices]\n",
        "        return sample\n",
        "\n",
        "data = Dataset(data_raw)"
      ]
    },
    {
      "cell_type": "code",
      "execution_count": 11,
      "metadata": {
        "id": "dnqS0mJkMbHd"
      },
      "outputs": [],
      "source": [
        "latent_dim = 128\n",
        "\n",
        "encoder = Encoder(state_dim + action_dim, layer_size=256, latent_dim=latent_dim).to(device)\n",
        "planner = Planner(state_dim, state_dim, layer_size=1024, latent_dim=latent_dim).to(device)\n",
        "actor = Actor(state_dim, action_dim, state_dim, layer_size=1024, latent_dim=latent_dim).to(device)\n",
        "\n",
        "encoder_optimizer = Adam(encoder.parameters(), lr=5e-5)\n",
        "planner_optimizer = Adam(planner.parameters(), lr=5e-5)\n",
        "actor_optimizer = Adam(actor.parameters(), lr=1e-4)"
      ]
    },
    {
      "cell_type": "markdown",
      "metadata": {
        "id": "Mgt8MyeA-ElT"
      },
      "source": [
        "# Training and Testing\n"
      ]
    },
    {
      "cell_type": "code",
      "execution_count": 12,
      "metadata": {
        "id": "V2A3_IwZB1js"
      },
      "outputs": [],
      "source": [
        "import torch.distributions as dist\n",
        "import torch.optim as optim\n",
        "import torch.nn.functional as F\n",
        "\n",
        "def train_sample(batch_size, beta, encoder, actor, planner, encoder_optimizer, actor_optimizer, planner_optimizer, data):\n",
        "    sample = data.sample_batch(batch_size).to(device)\n",
        "    current_state = sample[:, 0, :-18]\n",
        "    current_action = sample[:, 0, -18:]\n",
        "    goal_state = sample[:, -1, :-18]\n",
        "    goal_action = sample[:, -1, -18:]\n",
        "\n",
        "    z, mu_phi, sigma_phi = encoder.forward(sample)\n",
        "    mu_psi, sigma_psi = planner.forward(current_state, goal_state)\n",
        "\n",
        "    phi_gaussian = dist.Normal(mu_phi, sigma_phi)\n",
        "\n",
        "    psi_gaussian = dist.Normal(mu_psi, sigma_psi)\n",
        "\n",
        "    KL_loss = torch.sum(dist.kl.kl_divergence(phi_gaussian, psi_gaussian))\n",
        "\n",
        "    policy_action, _ = actor.forward(current_state.unsqueeze(1), z.unsqueeze(1), goal_state.unsqueeze(1))\n",
        "\n",
        "    action_loss = F.cross_entropy(policy_action.squeeze(1), current_action)\n",
        "\n",
        "    loss = beta * KL_loss + action_loss\n",
        "\n",
        "    encoder_optimizer.zero_grad()\n",
        "    planner_optimizer.zero_grad()\n",
        "    actor_optimizer.zero_grad()\n",
        "\n",
        "    loss.backward()\n",
        "\n",
        "    encoder_optimizer.step()\n",
        "    planner_optimizer.step()\n",
        "    actor_optimizer.step()\n",
        "    return loss"
      ]
    },
    {
      "cell_type": "code",
      "execution_count": 13,
      "metadata": {
        "colab": {
          "base_uri": "https://localhost:8080/"
        },
        "id": "oRQTwsBKUjee",
        "outputId": "531c485b-b90c-4124-ac72-ccb171125965"
      },
      "outputs": [
        {
          "output_type": "stream",
          "name": "stdout",
          "text": [
            "Batch: 0, Loss: 11.584511756896973\n",
            "Batch: 100, Loss: 2.095783233642578\n",
            "Batch: 200, Loss: 2.406536817550659\n",
            "Batch: 300, Loss: 2.5295205116271973\n",
            "Batch: 400, Loss: 2.2542388439178467\n",
            "Batch: 500, Loss: 2.3457558155059814\n",
            "Batch: 600, Loss: 1.9488890171051025\n",
            "Batch: 700, Loss: 2.1860296726226807\n",
            "Batch: 800, Loss: 2.2028629779815674\n",
            "Batch: 900, Loss: 1.9316964149475098\n",
            "Batch: 1000, Loss: 1.913192629814148\n",
            "Batch: 1100, Loss: 2.276026487350464\n",
            "Batch: 1200, Loss: 2.067229747772217\n",
            "Batch: 1300, Loss: 2.2296886444091797\n",
            "Batch: 1400, Loss: 2.046100616455078\n",
            "Batch: 1500, Loss: 2.1821415424346924\n",
            "Batch: 1600, Loss: 2.1878011226654053\n",
            "Batch: 1700, Loss: 2.0643150806427\n",
            "Batch: 1800, Loss: 1.9835386276245117\n",
            "Batch: 1900, Loss: 2.036116600036621\n",
            "Batch: 2000, Loss: 2.1073577404022217\n",
            "Batch: 2100, Loss: 2.260941505432129\n",
            "Batch: 2200, Loss: 2.15157413482666\n",
            "Batch: 2300, Loss: 1.6577122211456299\n",
            "Batch: 2400, Loss: 2.0471863746643066\n",
            "Batch: 2500, Loss: 1.8562239408493042\n",
            "Batch: 2600, Loss: 2.1263022422790527\n",
            "Batch: 2700, Loss: 2.010972738265991\n",
            "Batch: 2800, Loss: 2.0021159648895264\n",
            "Batch: 2900, Loss: 1.65001380443573\n",
            "Batch: 3000, Loss: 1.7737268209457397\n",
            "Batch: 3100, Loss: 1.7092669010162354\n",
            "Batch: 3200, Loss: 2.275975465774536\n",
            "Batch: 3300, Loss: 2.0028231143951416\n",
            "Batch: 3400, Loss: 1.822970986366272\n",
            "Batch: 3500, Loss: 2.2279748916625977\n",
            "Batch: 3600, Loss: 1.7638304233551025\n",
            "Batch: 3700, Loss: 1.7962017059326172\n",
            "Batch: 3800, Loss: 2.1209962368011475\n",
            "Batch: 3900, Loss: 2.079423666000366\n",
            "Batch: 4000, Loss: 1.9922996759414673\n",
            "Batch: 4100, Loss: 1.567468285560608\n",
            "Batch: 4200, Loss: 2.076371908187866\n",
            "Batch: 4300, Loss: 1.6491211652755737\n",
            "Batch: 4400, Loss: 1.7675939798355103\n",
            "Batch: 4500, Loss: 1.7658658027648926\n",
            "Batch: 4600, Loss: 2.276055097579956\n",
            "Batch: 4700, Loss: 2.3122849464416504\n",
            "Batch: 4800, Loss: 2.0561771392822266\n",
            "Batch: 4900, Loss: 1.7404087781906128\n",
            "Batch: 5000, Loss: 1.9567010402679443\n",
            "Batch: 5100, Loss: 2.11492919921875\n",
            "Batch: 5200, Loss: 1.9733859300613403\n",
            "Batch: 5300, Loss: 1.9495980739593506\n",
            "Batch: 5400, Loss: 1.939693570137024\n",
            "Batch: 5500, Loss: 1.884198546409607\n",
            "Batch: 5600, Loss: 1.6677513122558594\n",
            "Batch: 5700, Loss: 1.9560809135437012\n",
            "Batch: 5800, Loss: 1.7796554565429688\n",
            "Batch: 5900, Loss: 2.1245129108428955\n",
            "Batch: 6000, Loss: 2.0030999183654785\n",
            "Batch: 6100, Loss: 1.9117146730422974\n",
            "Batch: 6200, Loss: 1.8853181600570679\n",
            "Batch: 6300, Loss: 1.9088023900985718\n",
            "Batch: 6400, Loss: 1.9888205528259277\n",
            "Batch: 6500, Loss: 1.8307781219482422\n",
            "Batch: 6600, Loss: 2.105818510055542\n",
            "Batch: 6700, Loss: 2.087315559387207\n",
            "Batch: 6800, Loss: 2.082329034805298\n",
            "Batch: 6900, Loss: 1.8858962059020996\n",
            "Batch: 7000, Loss: 2.3534414768218994\n",
            "Batch: 7100, Loss: 1.6348731517791748\n",
            "Batch: 7200, Loss: 1.8377264738082886\n",
            "Batch: 7300, Loss: 2.0636634826660156\n",
            "Batch: 7400, Loss: 1.9172272682189941\n",
            "Batch: 7500, Loss: 2.0020668506622314\n",
            "Batch: 7600, Loss: 2.180483341217041\n",
            "Batch: 7700, Loss: 1.787710428237915\n",
            "Batch: 7800, Loss: 1.7807828187942505\n",
            "Batch: 7900, Loss: 1.9643008708953857\n",
            "Batch: 8000, Loss: 2.0048413276672363\n",
            "Batch: 8100, Loss: 2.0902390480041504\n",
            "Batch: 8200, Loss: 1.8361127376556396\n",
            "Batch: 8300, Loss: 2.060474157333374\n",
            "Batch: 8400, Loss: 1.8103973865509033\n",
            "Batch: 8500, Loss: 2.262247085571289\n",
            "Batch: 8600, Loss: 2.3452374935150146\n",
            "Batch: 8700, Loss: 2.329540729522705\n",
            "Batch: 8800, Loss: 1.8717929124832153\n",
            "Batch: 8900, Loss: 1.7732923030853271\n",
            "Batch: 9000, Loss: 1.8013333082199097\n",
            "Batch: 9100, Loss: 2.034261465072632\n",
            "Batch: 9200, Loss: 1.9667383432388306\n",
            "Batch: 9300, Loss: 2.1186349391937256\n",
            "Batch: 9400, Loss: 1.7574946880340576\n",
            "Batch: 9500, Loss: 1.9786146879196167\n",
            "Batch: 9600, Loss: 1.635805368423462\n",
            "Batch: 9700, Loss: 1.549759864807129\n",
            "Batch: 9800, Loss: 1.6217875480651855\n",
            "Batch: 9900, Loss: 1.8955047130584717\n"
          ]
        }
      ],
      "source": [
        "loss_list = []\n",
        "batch_list = []\n",
        "for batch in range(10000):\n",
        "    loss = train_sample(32, .9, encoder, actor, planner, encoder_optimizer, actor_optimizer, planner_optimizer, data)\n",
        "    if batch % 100 == 0:\n",
        "        print(f\"Batch: {batch}, Loss: {loss}\")\n",
        "        loss_list.append(loss)\n",
        "        batch_list.append(batch)"
      ]
    },
    {
      "cell_type": "code",
      "source": [
        "loss_vals = [loss.item() for loss in loss_list]\n",
        "plt.plot(batch_list, loss_vals)\n",
        "plt.xlabel(\"Batch Number\")\n",
        "plt.ylabel(\"Loss Value\")\n",
        "plt.title(\"Kociemba's Solver Loss\")\n"
      ],
      "metadata": {
        "colab": {
          "base_uri": "https://localhost:8080/",
          "height": 490
        },
        "id": "xnE-sqDV5rZS",
        "outputId": "b95f04ae-d3b2-407e-8f65-00d419d73fcb"
      },
      "execution_count": 24,
      "outputs": [
        {
          "output_type": "execute_result",
          "data": {
            "text/plain": [
              "Text(0.5, 1.0, \"Kociemba's Solver Loss\")"
            ]
          },
          "metadata": {},
          "execution_count": 24
        },
        {
          "output_type": "display_data",
          "data": {
            "text/plain": [
              "<Figure size 640x480 with 1 Axes>"
            ],
            "image/png": "[encoded data removed]"
          },
          "metadata": {}
        }
      ]
    },
    {
      "cell_type": "code",
      "execution_count": 14,
      "metadata": {
        "id": "_XfezATofIWs"
      },
      "outputs": [],
      "source": [
        "def scramble_n(cube, n):\n",
        "    for _ in range(n):\n",
        "        action = random.choice(movements)\n",
        "        cube._rotate_once(action)\n",
        "\n",
        "def attempt_solve(scramble_moves, max_moves):\n",
        "    cube = magiccube.Cube(3,\"YYYYYYYYYRRRRRRRRRGGGGGGGGGOOOOOOOOOBBBBBBBBBWWWWWWWWW\")\n",
        "    goal_state = get_cube_state(cube).flatten().unsqueeze(0).to(device)\n",
        "    scramble_n(cube, scramble_moves)\n",
        "    with torch.no_grad():\n",
        "      current_state = get_cube_state(cube).flatten().unsqueeze(0).to(device)\n",
        "\n",
        "      for t in range(max_moves):\n",
        "        if t % 32 == 0:\n",
        "            mu_psi, sigma_psi = planner.forward(current_state.float(), goal_state.float())\n",
        "        z = mu_psi + sigma_psi * torch.randn_like(sigma_psi)\n",
        "\n",
        "        actor_dist, _ = actor.forward(current_state.unsqueeze(1), z.unsqueeze(1), goal_state.unsqueeze(1))\n",
        "        action_index = torch.argmax(actor_dist, -1)\n",
        "\n",
        "        cube._rotate_once(movements[action_index])\n",
        "        current_state = get_cube_state(cube).flatten().unsqueeze(0).to(device)\n",
        "        if cube.is_done():\n",
        "            return t + 1\n",
        "    return -1\n",
        "\n",
        "\n",
        "def test_batch(batch_size):\n",
        "\n",
        "    cubes = []\n",
        "    histories = []\n",
        "\n",
        "    for i in range(batch_size):\n",
        "      cube = magiccube.Cube(3,\"YYYYYYYYYRRRRRRRRRGGGGGGGGGOOOOOOOOOBBBBBBBBBWWWWWWWWW\")\n",
        "      history = cube.scramble(1)\n",
        "\n",
        "      cubes.append(cube)\n",
        "      histories.append(history)\n",
        "\n",
        "    return cubes, histories\n",
        "\n",
        "def test_sample(batch_size, encoder, actor, planner):\n",
        "\n",
        "    goal_cube = magiccube.Cube(3,\"YYYYYYYYYRRRRRRRRRGGGGGGGGGOOOOOOOOOBBBBBBBBBWWWWWWWWW\")\n",
        "    goal_state = get_cube_state(goal_cube)\n",
        "    goal_state = goal_state.unsqueeze(0).repeat(batch_size, 1, 1).to(device)\n",
        "    goal_state = goal_state.view(goal_state.size(0), -1)\n",
        "\n",
        "    cubes, histories = test_batch(batch_size)\n",
        "\n",
        "    solved = [False] * batch_size\n",
        "    steps_taken = [0] * batch_size\n",
        "\n",
        "    with torch.no_grad():\n",
        "      current_state = batch_cube_state(cubes).to(device)\n",
        "\n",
        "      mu_psi, sigma_psi = planner.forward(current_state.float(), goal_state.float())\n",
        "      z = torch.normal(mu_psi, sigma_psi)\n",
        "      actor_dist, _ = actor.forward(current_state.unsqueeze(1), z.unsqueeze(1), goal_state.unsqueeze(1))\n",
        "\n",
        "      best_actions = torch.argmax(actor_dist, -1)\n",
        "\n",
        "      #evaluate\n",
        "      for i, action_index in enumerate(best_actions):\n",
        "        if not solved[i]:\n",
        "          cubes[i]._rotate_once(movements[action_index])\n",
        "          steps_taken[i] += 1\n",
        "          if cubes[i].is_done():\n",
        "            solved[i] = True\n",
        "\n",
        "\n",
        "    num_successful = sum(solved)\n",
        "    print(\"Number of successful solves: \", num_successful)\n",
        "\n"
      ]
    },
    {
      "cell_type": "code",
      "execution_count": 25,
      "metadata": {
        "colab": {
          "base_uri": "https://localhost:8080/"
        },
        "id": "MinRMH12gTqq",
        "outputId": "98dbf510-9f64-440a-e0c7-670cd45f3e8b"
      },
      "outputs": [
        {
          "output_type": "stream",
          "name": "stdout",
          "text": [
            "1 :  1000\n",
            "2 :  953\n",
            "3 :  757\n",
            "4 :  530\n",
            "5 :  370\n",
            "6 :  232\n",
            "7 :  134\n",
            "8 :  79\n",
            "9 :  43\n",
            "10 :  30\n",
            "0\n"
          ]
        }
      ],
      "source": [
        "solve_counts = []\n",
        "for d in range(1, 11):\n",
        "  solve_count = 0\n",
        "  for i in range(1000):\n",
        "    moves = attempt_solve(d, 30)\n",
        "    if moves > 0:\n",
        "      solve_count += 1\n",
        "  print(d, \": \", solve_count)\n",
        "  solve_counts.append(solve_count)\n",
        "\n",
        "solve_count = 0\n",
        "for i in range(1000):\n",
        "  moves = attempt_solve(30, 80)\n",
        "  if moves > 0:\n",
        "    solve_count += 1\n",
        "print(solve_count)"
      ]
    },
    {
      "cell_type": "code",
      "source": [
        "depths = range(1,11)\n",
        "\n",
        "plt.plot(depths, solve_counts)\n",
        "plt.xlabel(\"Scramble Depth\")\n",
        "plt.xlabel(\"Number of Successful Solves\")"
      ],
      "metadata": {
        "colab": {
          "base_uri": "https://localhost:8080/",
          "height": 467
        },
        "id": "m8HHt_q5Pj7L",
        "outputId": "d2f35c50-7cd5-48c6-fd94-d8f3b40d4b63"
      },
      "execution_count": 26,
      "outputs": [
        {
          "output_type": "execute_result",
          "data": {
            "text/plain": [
              "Text(0.5, 0, 'Number of Successful Solves')"
            ]
          },
          "metadata": {},
          "execution_count": 26
        },
        {
          "output_type": "display_data",
          "data": {
            "text/plain": [
              "<Figure size 640x480 with 1 Axes>"
            ],
            "image/png": "[encoded data removed]"
          },
          "metadata": {}
        }
      ]
    }
  ],
  "metadata": {
    "accelerator": "GPU",
    "colab": {
      "gpuType": "L4",
      "provenance": []
    },
    "kernelspec": {
      "display_name": "Python 3",
      "name": "python3"
    },
    "language_info": {
      "codemirror_mode": {
        "name": "ipython",
        "version": 3
      },
      "file_extension": ".py",
      "mimetype": "text/x-python",
      "name": "python",
      "nbconvert_exporter": "python",
      "pygments_lexer": "ipython3",
      "version": "3.8.8"
    }
  },
  "nbformat": 4,
  "nbformat_minor": 0
}